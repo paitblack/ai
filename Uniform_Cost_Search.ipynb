{
 "cells": [
  {
   "cell_type": "markdown",
   "id": "2ec15b82",
   "metadata": {},
   "source": [
    "### UCS using list as queue"
   ]
  },
  {
   "cell_type": "code",
   "execution_count": 1,
   "id": "d518b7db",
   "metadata": {},
   "outputs": [
    {
     "name": "stdout",
     "output_type": "stream",
     "text": [
      "Path: ['A', 'B', 'C', 'D', 'H', 'G', 'K', 'O', 'P']\n",
      "Total Cost: 8\n"
     ]
    }
   ],
   "source": [
    "def ucs(graph,start,goal):\n",
    "    queue = [(0,[start])]\n",
    "    visited = set()\n",
    "\n",
    "    while queue:\n",
    "        cost, path = queue.pop(0)\n",
    "        current_node = path[-1]\n",
    "\n",
    "        if current_node == goal:\n",
    "            return path,cost\n",
    "        \n",
    "        if current_node not in visited:\n",
    "            visited.add(current_node)\n",
    "            for neighbor, neighbor_cost in graph[current_node]:\n",
    "                new_cost = cost + neighbor_cost\n",
    "                new_path = path + [neighbor]\n",
    "                queue.append((new_cost,new_path))\n",
    "            queue.sort()\n",
    "    return None\n",
    "\n",
    "graph = {\n",
    "    'A': [('B', 1), ('E', 3)],\n",
    "    'B': [('A', 1), ('C', 1), ('F', float('inf'))],\n",
    "    'C': [('B', 1), ('D', 1), ('G', 5)],\n",
    "    'D': [('C', 1), ('H', 1)],\n",
    "    'E': [('A', 3), ('I', 4), ('F', float('inf'))],\n",
    "    'F': [('B', float('inf')), ('E', float('inf')), ('G', float('inf')), ('J', float('inf'))],\n",
    "    'G': [('C', 5), ('F', float('inf')), ('H', 1), ('K', 1)],\n",
    "    'H': [('G', 1), ('D', 1), ('L', float('inf'))],\n",
    "    'I': [('E', 4), ('J', 2), ('M', float('inf'))],\n",
    "    'J': [('I', 2), ('F', float('inf')), ('K', 3), ('N', 2)],\n",
    "    'K': [('G', 1), ('L', float('inf')), ('O', 1), ('J', 3)],\n",
    "    'L': [('H', float('inf')), ('K', float('inf')), ('P', float('inf'))],\n",
    "    'M': [('I', float('inf')), ('N', float('inf'))],\n",
    "    'N': [('J', 2), ('M', float('inf')), ('O', 2)],\n",
    "    'O': [('K', 1), ('N', 2), ('P', 1)],\n",
    "    'P': [('L', float('inf')), ('O', 1)]\n",
    "}\n",
    "\n",
    "start_node = 'A'\n",
    "goal_node = 'P'\n",
    "result = ucs(graph, start_node, goal_node)\n",
    "\n",
    "if result:\n",
    "  path, cost = result\n",
    "  print(\"Path:\", path)\n",
    "  print(\"Total Cost:\", cost)\n",
    "else:\n",
    "  print(\"No path found.\")"
   ]
  },
  {
   "cell_type": "markdown",
   "id": "f1c43d62",
   "metadata": {},
   "source": [
    "#### heapq module  \n",
    "- heap queue algorithm, a heap is a specialized tree-based data structure that satisfies the heap property.\n",
    "\n",
    "- applications : priority queues, kth largest/smallest element problems, scheduling algorithms.\n",
    "\n",
    "- why heapq ? : efficient (O(n) insert and delete), lightweight."
   ]
  },
  {
   "cell_type": "code",
   "execution_count": 2,
   "id": "d827c7a5",
   "metadata": {},
   "outputs": [
    {
     "name": "stdout",
     "output_type": "stream",
     "text": [
      "Path: ['A', 'B', 'C', 'D', 'H', 'G', 'K', 'O', 'P']\n",
      "Cost: 8\n"
     ]
    }
   ],
   "source": [
    "import heapq\n",
    "\n",
    "def ucs_hq(graph,start,goal):\n",
    "    priority_queue = []\n",
    "    heapq.heappush(priority_queue,(0,start))\n",
    "\n",
    "    came_from = {start:None}\n",
    "    cost_so_far = {start:0}\n",
    "\n",
    "    while priority_queue:\n",
    "        current_cost , current_node = heapq.heappop(priority_queue)\n",
    "\n",
    "        if current_node == goal:\n",
    "            return reconstruct_path(came_from,start,goal), current_cost\n",
    "        \n",
    "        for neighbor, cost in graph[current_node]:\n",
    "            new_cost = current_cost + cost\n",
    "\n",
    "            if neighbor not in cost_so_far or new_cost < cost_so_far[neighbor]:\n",
    "                cost_so_far[neighbor] = new_cost\n",
    "                heapq.heappush(priority_queue, (new_cost, neighbor))\n",
    "                came_from[neighbor] = current_node\n",
    "    \n",
    "    return \"No path found\", float('inf')\n",
    "\n",
    "def reconstruct_path(came_from, start, goal):\n",
    "    path = []\n",
    "    current = goal\n",
    "    while current != start:\n",
    "        path.append(current)\n",
    "        current = came_from[current]\n",
    "    path.append(start)\n",
    "    path.reverse() \n",
    "    return path\n",
    "\n",
    "graph = {\n",
    "    'A': [('B', 1), ('E', 3)],\n",
    "    'B': [('A', 1), ('C', 1), ('F', float('inf'))],\n",
    "    'C': [('B', 1), ('D', 1), ('G', 5)],\n",
    "    'D': [('C', 1), ('H', 1)],\n",
    "    'E': [('A', 3), ('I', 4), ('F', float('inf'))],\n",
    "    'F': [('B', float('inf')), ('E', float('inf')), ('G', float('inf')), ('J', float('inf'))],\n",
    "    'G': [('C', 5), ('F', float('inf')), ('H', 1), ('K', 1)],\n",
    "    'H': [('G', 1), ('D', 1), ('L', float('inf'))],\n",
    "    'I': [('E', 4), ('J', 2), ('M', float('inf'))],\n",
    "    'J': [('I', 2), ('F', float('inf')), ('K', 3), ('N', 2)],\n",
    "    'K': [('G', 1), ('L', float('inf')), ('O', 1), ('J', 3)],\n",
    "    'L': [('H', float('inf')), ('K', float('inf')), ('P', float('inf'))],\n",
    "    'M': [('I', float('inf')), ('N', float('inf'))],\n",
    "    'N': [('J', 2), ('M', float('inf')), ('O', 2)],\n",
    "    'O': [('K', 1), ('N', 2), ('P', 1)],\n",
    "    'P': [('L', float('inf')), ('O', 1)]\n",
    "}\n",
    "\n",
    "path, cost = ucs_hq(graph, 'A', 'P')\n",
    "print(\"Path:\", path)\n",
    "print(\"Cost:\", cost)"
   ]
  }
 ],
 "metadata": {
  "kernelspec": {
   "display_name": "Python 3",
   "language": "python",
   "name": "python3"
  },
  "language_info": {
   "codemirror_mode": {
    "name": "ipython",
    "version": 3
   },
   "file_extension": ".py",
   "mimetype": "text/x-python",
   "name": "python",
   "nbconvert_exporter": "python",
   "pygments_lexer": "ipython3",
   "version": "3.11.0"
  }
 },
 "nbformat": 4,
 "nbformat_minor": 5
}
