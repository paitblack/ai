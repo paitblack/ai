{
 "cells": [
  {
   "cell_type": "markdown",
   "id": "68d469f0",
   "metadata": {},
   "source": [
    "| **Criteria**            | **Greedy Best-First Search (GBFS)**                                   | **A* Search**                                             |\n",
    "|-------------------------|-----------------------------------------------------------------------|-----------------------------------------------------------|\n",
    "| **Heuristic Used**       | Only uses the heuristic (e.g., Manhattan distance, number of wrong tiles). | Uses both heuristic and actual cost (`g + h`).             |\n",
    "| **Goal**                 | Tries to move towards the goal state as quickly as possible based on heuristic. | Balances between cost so far (`g`) and heuristic (`h`).    |\n",
    "| **Cost Consideration**   | Ignores the cost of the path so far (`g`), focuses only on the heuristic (`h`). | Takes both the path cost (`g`) and heuristic (`h`) into account. |\n",
    "| **Completeness**         | **Incomplete**: May not find the solution if there are loops or local minima. | **Complete**: Guaranteed to find the solution if one exists. |\n",
    "| **Optimality**           | **Not optimal**: The solution found may not be the shortest or best one. | **Optimal**: Always finds the optimal solution (shortest path) if the heuristic is admissible. |\n",
    "| **Efficiency (Time)**    | Usually faster than A* since it ignores the path cost (`g`).          | Generally slower than GBFS due to additional cost computation (`g`). |\n",
    "| **Efficiency (Space)**   | Can use less memory than A* since it doesn't store path costs, but can still grow large in certain cases. | Typically uses more memory than GBFS due to storing both `g` and `h` values for all nodes. |\n",
    "| **Exploration Strategy** | Prioritizes exploration of nodes that appear closest to the goal based on heuristic. | Explores nodes that minimize the combined cost of path and heuristic (`g + h`). |\n",
    "| **Handling of Loops**    | Prone to getting stuck in loops or revisiting the same states without making progress. | Less prone to loops due to combining path cost and heuristic, though still requires proper handling of revisited nodes. |\n",
    "| **Use Cases**            | Suitable for scenarios where a quick approximation is needed and the heuristic is strong. | Ideal for problems where both accuracy and optimality are important. Used in many pathfinding problems. |\n",
    "| **Pros**                 | - Can be faster than A* when a good heuristic is used.<br> - Simple to implement.<br> - Can find solutions quickly when heuristic is well-suited. | - Guarantees finding the optimal solution if the heuristic is admissible.<br> - Always complete.<br> - Balances exploration and exploitation. |\n",
    "| **Cons**                 | - Can get stuck in local minima.<br> - May explore misleading paths based solely on the heuristic.<br> - Not guaranteed to find the best or even any solution.<br> - Prone to inefficiencies due to re-exploring nodes. | - Slower than Greedy BFS due to maintaining path cost.<br> - Higher memory usage due to storing both `g` and `h`.<br> - More computationally expensive. |\n"
   ]
  },
  {
   "cell_type": "markdown",
   "id": "3feeceb2",
   "metadata": {},
   "source": [
    "### Greedy Best First Seacrh"
   ]
  },
  {
   "cell_type": "code",
   "execution_count": 5,
   "id": "575c9b54",
   "metadata": {},
   "outputs": [
    {
     "name": "stdout",
     "output_type": "stream",
     "text": [
      "Visiting: A\n",
      "Visiting: C\n",
      "Visiting: F\n",
      "Visiting: B\n",
      "Visiting: E\n",
      "Visiting: G\n",
      "Found path: ['A', 'B', 'E', 'G']\n"
     ]
    }
   ],
   "source": [
    "import heapq\n",
    "\n",
    "def gbfs(start, goal, graph, heuristics):\n",
    "    prior_list = []\n",
    "    heapq.heappush(prior_list, (heuristics[start], start))\n",
    "    visited = set()\n",
    "    parent = {}\n",
    "\n",
    "    while prior_list:\n",
    "        _, current = heapq.heappop(prior_list)\n",
    "        print(\"Visiting:\", current)\n",
    "\n",
    "        if current == goal:\n",
    "            path = []\n",
    "            while current:\n",
    "                path.append(current)\n",
    "                current = parent.get(current)\n",
    "            return path[::-1]\n",
    "\n",
    "        visited.add(current)\n",
    "\n",
    "        for neighbor in graph[current]:\n",
    "            if neighbor in visited:\n",
    "                continue\n",
    "            if neighbor not in [n for h, n in prior_list]:  \n",
    "                parent[neighbor] = current\n",
    "                heapq.heappush(prior_list, (heuristics[neighbor], neighbor))\n",
    "\n",
    "    return None\n",
    "\n",
    "\n",
    "graph = {\n",
    "    'A': ['B', 'C'],\n",
    "    'B': ['D', 'E'],\n",
    "    'C': ['F'],\n",
    "    'D': [],\n",
    "    'E': ['G'],\n",
    "    'F': [],\n",
    "    'G': []\n",
    "}\n",
    "\n",
    "heuristics = {\n",
    "    'A': 7,\n",
    "    'B': 6,\n",
    "    'C': 2,\n",
    "    'D': 5,\n",
    "    'E': 4,\n",
    "    'F': 1,\n",
    "    'G': 0\n",
    "}\n",
    "\n",
    "start_node = 'A'\n",
    "goal_node = 'G'\n",
    "\n",
    "path = gbfs(start_node,goal_node,graph,heuristics)\n",
    "\n",
    "print(\"Found path:\", path)        \n",
    "\n"
   ]
  },
  {
   "cell_type": "markdown",
   "id": "cab8e794",
   "metadata": {},
   "source": [
    "### A* Search"
   ]
  },
  {
   "cell_type": "code",
   "execution_count": 6,
   "id": "d3319e32",
   "metadata": {},
   "outputs": [
    {
     "name": "stdout",
     "output_type": "stream",
     "text": [
      "Visiting: A\n",
      "Visiting: C\n",
      "Visiting: B\n",
      "Visiting: D\n",
      "Visiting: F\n",
      "Visiting: G\n",
      "Found path: ['A', 'C', 'F', 'G']\n"
     ]
    }
   ],
   "source": [
    "import heapq\n",
    "\n",
    "def a_star(graph, heuristics, start, goal):\n",
    "    open_list = []\n",
    "    heapq.heappush(open_list, (heuristics[start], 0, start))\n",
    "    \n",
    "    g_scores = {node: float('inf') for node in graph}\n",
    "    g_scores[start] = 0\n",
    "    came_from = {}\n",
    "\n",
    "    while open_list:\n",
    "        f, g, current = heapq.heappop(open_list)\n",
    "        print(\"Visiting:\", current)\n",
    "\n",
    "        if current == goal:\n",
    "            return reconstruct_path(came_from, current)\n",
    "\n",
    "        for neighbor, cost in graph[current]:\n",
    "            tentative_g = g + cost\n",
    "\n",
    "            if tentative_g < g_scores[neighbor]:\n",
    "                g_scores[neighbor] = tentative_g\n",
    "                f_score = tentative_g + heuristics[neighbor]\n",
    "                came_from[neighbor] = current\n",
    "                heapq.heappush(open_list, (f_score, tentative_g, neighbor))\n",
    "\n",
    "    return None\n",
    "\n",
    "def reconstruct_path(came_from, current):\n",
    "    path = []\n",
    "    while current:\n",
    "        path.append(current)\n",
    "        current = came_from.get(current)\n",
    "    return path[::-1]\n",
    "\n",
    "graph = {\n",
    "    'A': [('B', 1), ('C', 4)],\n",
    "    'B': [('D', 5), ('E', 12)],\n",
    "    'C': [('F', 7)],\n",
    "    'D': [],\n",
    "    'E': [('G', 3)],\n",
    "    'F': [('G', 2)],\n",
    "    'G': []\n",
    "}\n",
    "\n",
    "heuristics = {\n",
    "    'A': 7,\n",
    "    'B': 6,\n",
    "    'C': 2,\n",
    "    'D': 5,\n",
    "    'E': 3,\n",
    "    'F': 1,\n",
    "    'G': 0\n",
    "}\n",
    "\n",
    "start = 'A'\n",
    "goal = 'G'\n",
    "\n",
    "path = a_star(graph, heuristics, start, goal)\n",
    "print(\"Found path:\", path)"
   ]
  }
 ],
 "metadata": {
  "kernelspec": {
   "display_name": "Python 3",
   "language": "python",
   "name": "python3"
  },
  "language_info": {
   "codemirror_mode": {
    "name": "ipython",
    "version": 3
   },
   "file_extension": ".py",
   "mimetype": "text/x-python",
   "name": "python",
   "nbconvert_exporter": "python",
   "pygments_lexer": "ipython3",
   "version": "3.11.0"
  }
 },
 "nbformat": 4,
 "nbformat_minor": 5
}
